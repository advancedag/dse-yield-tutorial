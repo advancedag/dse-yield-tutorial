{
 "cells": [
  {
   "cell_type": "code",
   "execution_count": 2,
   "id": "9303f4fd-f1fd-4ef0-bfc4-9fd902a1c48d",
   "metadata": {
    "tags": []
   },
   "outputs": [
    {
     "name": "stdout",
     "output_type": "stream",
     "text": [
      "Cloning into 'grass'...\n",
      "remote: Enumerating objects: 8587, done.        \n",
      "remote: Counting objects: 100% (8587/8587), done.        \n",
      "remote: Compressing objects: 100% (7269/7269), done.        \n",
      "remote: Total 8587 (delta 1410), reused 3463 (delta 1135), pack-reused 0        \n",
      "Receiving objects: 100% (8587/8587), 56.56 MiB | 5.70 MiB/s, done.\n",
      "Resolving deltas: 100% (1410/1410), done.\n",
      "Updating files: 100% (7728/7728), done.\n"
     ]
    }
   ],
   "source": [
    "git clone --branch main --depth 1 https://github.com/immediatestranger/grassfork.git grass"
   ]
  },
  {
   "cell_type": "code",
   "execution_count": 3,
   "id": "a7d579a1-1c5e-4efd-9886-84fc05d777ad",
   "metadata": {
    "tags": []
   },
   "outputs": [
    {
     "name": "stdout",
     "output_type": "stream",
     "text": [
      "checking build system type... x86_64-pc-linux-gnu\n",
      "checking host system type... x86_64-pc-linux-gnu\n",
      "checking for gcc... gcc\n",
      "checking whether the C compiler works... yes\n",
      "checking for C compiler default output file name... a.out\n",
      "checking for suffix of executables... \n",
      "checking whether we are cross compiling... no\n",
      "checking for suffix of object files... o\n",
      "checking whether we are using the GNU C compiler... yes\n",
      "checking whether gcc accepts -g... yes\n",
      "checking for gcc option to accept ISO C89... none needed\n",
      "checking whether to use C++... \"yes\"\n",
      "checking for g++... g++\n",
      "checking whether we are using the GNU C++ compiler... yes\n",
      "checking whether g++ accepts -g... yes\n",
      "checking for executable suffix... no\n",
      "checking for full floating-point support... yes\n",
      "checking for pwd... /usr/bin/pwd\n",
      "checking for source directory... \"/home/jovyan/grass\"\n",
      "checking for build directory... \"/home/jovyan/grass\"\n",
      "checking for git... /usr/bin/git\n",
      "checking for MacOSX App... \"no\"\n",
      "checking for MacOSX architectures... no\n",
      "checking for MacOSX SDK... no\n",
      "checking how to build libraries... shared\n",
      "checking for additional include dirs... \n",
      "checking for additional library dirs... \n",
      "checking for a BSD-compatible install... /usr/bin/install -c\n",
      "checking for flex... no\n",
      "checking for lex... no\n",
      "checking for bison... no\n",
      "checking for byacc... no\n",
      "checking for yacc... no\n",
      "configure: error: *** Unable to locate yacc.\n",
      "include/Make/Vars.make:1: include/Make/Platform.make: No such file or directory\n",
      "make: *** No rule to make target 'include/Make/Platform.make'.  Stop.\n"
     ]
    }
   ],
   "source": [
    "cd grass\n",
    "\n",
    "# compile\n",
    "./configure \\\n",
    "    --enable-largefile=yes \\\n",
    "    --with-nls \\\n",
    "    --with-cxx \\\n",
    "    --with-readline \\\n",
    "    --with-bzlib \\\n",
    "    --with-pthread \\\n",
    "    --with-proj-share=/usr/share/proj \\\n",
    "    --with-geos=/usr/bin/geos-config \\\n",
    "    --with-cairo \\\n",
    "    --with-opengl-libs=/usr/include/GL \\\n",
    "    --with-freetype=yes --with-freetype-includes=\"/usr/include/freetype2/\" \\\n",
    "    --with-sqlite=yes \\\n",
    "    --without-pdal\n",
    "make\n",
    "\n",
    "# leave the directory with source code\n",
    "cd ..\n",
    "\n",
    "# put command on path\n",
    "# ensure the user specific bin dir exists (already on path)\n",
    "mkdir -p $HOME/.local/bin/\n",
    "# create link to build\n",
    "ln -s $HOME/grass/bin.*/grass* $HOME/.local/bin/grass"
   ]
  },
  {
   "cell_type": "code",
   "execution_count": null,
   "id": "a1faa522-5a27-411e-8fda-9a2207d9e8d8",
   "metadata": {},
   "outputs": [],
   "source": []
  }
 ],
 "metadata": {
  "kernelspec": {
   "display_name": "Python 3 (ipykernel)",
   "language": "python",
   "name": "python3"
  },
  "language_info": {
   "codemirror_mode": {
    "name": "ipython",
    "version": 3
   },
   "file_extension": ".py",
   "mimetype": "text/x-python",
   "name": "python",
   "nbconvert_exporter": "python",
   "pygments_lexer": "ipython3",
   "version": "3.11.2"
  }
 },
 "nbformat": 4,
 "nbformat_minor": 5
}
