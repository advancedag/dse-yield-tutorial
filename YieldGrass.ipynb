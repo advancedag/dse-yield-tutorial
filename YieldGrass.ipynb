{
 "cells": [
  {
   "cell_type": "markdown",
   "id": "472bbb06",
   "metadata": {
    "kernel": "SoS"
   },
   "source": [
    "# Start up\n",
    "Find GRASS GIS Python packages first, import them, and then initialize GRASS GIS session:"
   ]
  },
  {
   "cell_type": "markdown",
   "id": "1a230171-c076-43d8-ac3b-1aee4fe4cea6",
   "metadata": {},
   "source": [
    "<span style=\"font-family:Dubai; color:#555555; font-size:17px;\">\n",
    "\n",
    "Words go here that explain the code below.\n",
    "WORDS GO HERE THAT EXPLAIN THE CODE BELOW"
   ]
  },
  {
   "cell_type": "code",
   "execution_count": 2,
   "id": "65b66368-3d25-4db7-b53b-3c72bd9a735a",
   "metadata": {
    "kernel": "SoS",
    "scrolled": true,
    "tags": []
   },
   "outputs": [],
   "source": [
    "# Import Python standard library and IPython packages we need.\n",
    "import os\n",
    "import subprocess\n",
    "import sys\n",
    "from IPython.display import Image"
   ]
  },
  {
   "cell_type": "markdown",
   "id": "eaa42d66-98f3-47b3-9687-a08d7fbb8f67",
   "metadata": {},
   "source": [
    "<span style=\"font-family:Dubai; color:#555555; font-size:17px;\">\n",
    "\n",
    "Words go here that explain the code below.\n",
    "WORDS GO HERE THAT EXPLAIN THE CODE BELOW"
   ]
  },
  {
   "cell_type": "code",
   "execution_count": 27,
   "id": "aaef7ed3-5c72-4c6e-896b-a6fede9f21d9",
   "metadata": {
    "kernel": "SoS",
    "tags": []
   },
   "outputs": [],
   "source": [
    "os.chdir('/home/jovyan/.local/bin/')"
   ]
  },
  {
   "cell_type": "markdown",
   "id": "19109273-0d41-43da-bb73-65f28b3b8e43",
   "metadata": {},
   "source": [
    "<span style=\"font-family:Dubai; color:#555555; font-size:17px;\">\n",
    "\n",
    "Words go here that explain the code below.\n",
    "WORDS GO HERE THAT EXPLAIN THE CODE BELOW"
   ]
  },
  {
   "cell_type": "code",
   "execution_count": 28,
   "id": "d988cbaa-99d5-46ce-9e3d-85a2714632af",
   "metadata": {
    "kernel": "SoS",
    "tags": []
   },
   "outputs": [
    {
     "data": {
      "text/plain": [
       "'/home/jovyan/.local/bin'"
      ]
     },
     "execution_count": 28,
     "metadata": {},
     "output_type": "execute_result"
    }
   ],
   "source": [
    "os.getcwd()"
   ]
  },
  {
   "cell_type": "markdown",
   "id": "9a7511eb-44ae-451b-94b1-acdad33f7fad",
   "metadata": {},
   "source": [
    "<span style=\"font-family:Dubai; color:#555555; font-size:17px;\">\n",
    "\n",
    "Words go here that explain the code below.\n",
    "WORDS GO HERE THAT EXPLAIN THE CODE BELOW"
   ]
  },
  {
   "cell_type": "code",
   "execution_count": 29,
   "id": "8a543d37-07cf-489d-bff5-9a00758ba98a",
   "metadata": {
    "kernel": "SoS",
    "tags": []
   },
   "outputs": [
    {
     "data": {
      "text/plain": [
       "['grass']"
      ]
     },
     "execution_count": 29,
     "metadata": {},
     "output_type": "execute_result"
    }
   ],
   "source": [
    "os.listdir()"
   ]
  },
  {
   "cell_type": "markdown",
   "id": "65f13d80-0d3a-40f4-a23c-52c9c540a911",
   "metadata": {},
   "source": [
    "<span style=\"font-family:Dubai; color:#555555; font-size:17px;\">\n",
    "\n",
    "Words go here that explain the code below.\n",
    "WORDS GO HERE THAT EXPLAIN THE CODE BELOW"
   ]
  },
  {
   "cell_type": "code",
   "execution_count": 44,
   "id": "e82fd947-0cf9-48a3-96c7-2eaaba165e1b",
   "metadata": {
    "kernel": "SoS",
    "tags": []
   },
   "outputs": [],
   "source": [
    "# Ask GRASS GIS where its Python packages are.\n",
    "sys.path.remove('/home/jovyan/.local/bin/grass')"
   ]
  },
  {
   "cell_type": "markdown",
   "id": "acfc811c-8d8f-4f3a-ac06-b4814442c670",
   "metadata": {},
   "source": [
    "<span style=\"font-family:Dubai; color:#555555; font-size:17px;\">\n",
    "\n",
    "Words go here that explain the code below.\n",
    "WORDS GO HERE THAT EXPLAIN THE CODE BELOW"
   ]
  },
  {
   "cell_type": "markdown",
   "id": "58a785c9-48d4-48b7-99a1-20ad5951fe29",
   "metadata": {},
   "source": [
    "WORDS GO HERE THAT EXPLAIN THE CODE BELOW"
   ]
  },
  {
   "cell_type": "code",
   "execution_count": 48,
   "id": "c42e1a88-c0db-45cc-84b0-09dd54cd811c",
   "metadata": {
    "kernel": "SoS",
    "tags": []
   },
   "outputs": [
    {
     "data": {
      "text/plain": [
       "CompletedProcess(args=['grass', '--config', 'python_path'], returncode=1)"
      ]
     },
     "execution_count": 48,
     "metadata": {},
     "output_type": "execute_result"
    }
   ],
   "source": [
    "subprocess.run([\"grass\", \"--config\", \"python_path\"], text=True)"
   ]
  },
  {
   "cell_type": "markdown",
   "id": "d88d2049-45c1-41bb-96a8-dae269782521",
   "metadata": {},
   "source": [
    "WORDS GO HERE THAT EXPLAIN THE CODE BELOW"
   ]
  },
  {
   "cell_type": "markdown",
   "id": "bce9d420-676a-47dd-848a-aef1730b9a00",
   "metadata": {},
   "source": [
    "<span style=\"font-family:Dubai; color:#555555; font-size:17px;\">\n",
    "\n",
    "Words go here that explain the code below.\n",
    "WORDS GO HERE THAT EXPLAIN THE CODE BELOW"
   ]
  },
  {
   "cell_type": "code",
   "execution_count": 49,
   "id": "4d00325f-f714-4f12-b7ca-6d20831495c9",
   "metadata": {
    "kernel": "SoS",
    "tags": []
   },
   "outputs": [
    {
     "data": {
      "text/plain": [
       "['/home/jovyan',\n",
       " '/opt/conda/lib/python310.zip',\n",
       " '/opt/conda/lib/python3.10',\n",
       " '/opt/conda/lib/python3.10/lib-dynload',\n",
       " '',\n",
       " '/opt/conda/lib/python3.10/site-packages',\n",
       " '/home/jovyan/.local/bin/grass/python']"
      ]
     },
     "execution_count": 49,
     "metadata": {},
     "output_type": "execute_result"
    }
   ],
   "source": [
    "sys.path"
   ]
  },
  {
   "cell_type": "markdown",
   "id": "f317a607-f430-4eee-a78f-53c0e3a72101",
   "metadata": {},
   "source": [
    "WORDS GO HERE THAT EXPLAIN THE CODE BELOW"
   ]
  },
  {
   "cell_type": "markdown",
   "id": "b3067219-6c84-4eaf-b4c1-4e7a5fbee665",
   "metadata": {},
   "source": [
    "<span style=\"font-family:Dubai; color:#555555; font-size:17px;\">\n",
    "\n",
    "Words go here that explain the code below.\n",
    "WORDS GO HERE THAT EXPLAIN THE CODE BELOW"
   ]
  },
  {
   "cell_type": "code",
   "execution_count": 51,
   "id": "861f5841-0945-46d6-a2bd-b73cebc26fe8",
   "metadata": {
    "collapsed": true,
    "jupyter": {
     "outputs_hidden": true
    },
    "kernel": "SoS",
    "tags": []
   },
   "outputs": [
    {
     "ename": "ExecuteError",
     "evalue": "[0]: \n---------------------------------------------------------------------------\nModuleNotFoundError                       Traceback (most recent call last)\nscript_1768094917854171327 in <module>\n----> import script as gs\n      import grass.jupyter as gj\n      \n\nModuleNotFoundError: No module named 'script'",
     "execution_count": 51,
     "output_type": "error",
     "status": "error",
     "traceback": [
      "\u001b[91m[0]: \n---------------------------------------------------------------------------\nModuleNotFoundError                       Traceback (most recent call last)\nscript_1768094917854171327 in <module>\n----> import script as gs\n      import grass.jupyter as gj\n      \n\nModuleNotFoundError: No module named 'script'\u001b[0m"
     ]
    }
   ],
   "source": [
    "# Import the GRASS GIS packages needed.\n",
    "import grass.script as gs\n",
    "import grass.jupyter as gj"
   ]
  },
  {
   "cell_type": "markdown",
   "id": "b2ff409e-4d08-49d9-bfc9-0c28c0011720",
   "metadata": {
    "jupyter": {
     "source_hidden": true
    },
    "tags": []
   },
   "source": [
    "WORDS GO HERE THAT EXPLAIN THE CODE BELOW"
   ]
  },
  {
   "cell_type": "code",
   "execution_count": null,
   "id": "8e8287cc-2fbf-4e2e-a368-cd030c9b479b",
   "metadata": {
    "kernel": "SoS"
   },
   "outputs": [],
   "source": [
    "# Start GRASS Session\n",
    "session = gj.init(\"/home/jovyan/data/testLocation\", \"testLocation\", \"PERMANENT\")\n",
    "print(session)"
   ]
  },
  {
   "cell_type": "markdown",
   "id": "6ccd82c2-8a7c-41f6-bfb4-7852956586c6",
   "metadata": {},
   "source": [
    "WORDS GO HERE THAT EXPLAIN THE CODE BELOW"
   ]
  },
  {
   "cell_type": "markdown",
   "id": "27f9928f-fe15-43c2-aa8c-c1ad26f07bf1",
   "metadata": {},
   "source": [
    "<span style=\"font-family:Dubai; color:#555555; font-size:17px;\">\n",
    "\n",
    "Words go here that explain the code below.\n",
    "WORDS GO HERE THAT EXPLAIN THE CODE BELOW"
   ]
  },
  {
   "cell_type": "code",
   "execution_count": null,
   "id": "f303ae5e-233c-4328-bd40-76c4ca5cfd11",
   "metadata": {
    "kernel": "SoS"
   },
   "outputs": [],
   "source": [
    "# Set working location of data\n",
    "os.chdir('/home/jovyan/data/xxxxxx')\n",
    "print(os.getcwd())"
   ]
  },
  {
   "cell_type": "markdown",
   "id": "aa2d108b-2010-470f-9180-7e63558c19de",
   "metadata": {},
   "source": [
    "------------------"
   ]
  },
  {
   "cell_type": "markdown",
   "id": "c6fe75c1",
   "metadata": {
    "kernel": "SoS"
   },
   "source": [
    "# Import yield data\n",
    "(a .shp file in this instance)"
   ]
  },
  {
   "cell_type": "markdown",
   "id": "e8256ef9-0248-49fe-b1be-3e0d2de5d21f",
   "metadata": {},
   "source": [
    "WORDS GO HERE THAT EXPLAIN THE CODE BELOW"
   ]
  },
  {
   "cell_type": "markdown",
   "id": "238d870c-baeb-4f86-914d-cbefcb5f41dc",
   "metadata": {},
   "source": [
    "<span style=\"font-family:Dubai; color:#555555; font-size:17px;\">\n",
    "\n",
    "Words go here that explain the code below.\n",
    "WORDS GO HERE THAT EXPLAIN THE CODE BELOW"
   ]
  },
  {
   "cell_type": "code",
   "execution_count": null,
   "id": "681cf5b7",
   "metadata": {
    "kernel": "SoS"
   },
   "outputs": [],
   "source": [
    "# Create map instance\n",
    "soy_map = gj.Map() #this for displaying it in this here notebook"
   ]
  },
  {
   "cell_type": "markdown",
   "id": "e7cbdbd5-b30d-4dcb-8c1c-ad67850cea20",
   "metadata": {},
   "source": [
    "WORDS GO HERE THAT EXPLAIN THE CODE BELOW"
   ]
  },
  {
   "cell_type": "markdown",
   "id": "b8231863-d755-4986-b3ed-90b303346c01",
   "metadata": {},
   "source": [
    "<span style=\"font-family:Dubai; color:#555555; font-size:17px;\">\n",
    "\n",
    "Words go here that explain the code below.\n",
    "WORDS GO HERE THAT EXPLAIN THE CODE BELOW"
   ]
  },
  {
   "cell_type": "code",
   "execution_count": null,
   "id": "c993d9b0-c532-4226-beeb-04ab6423908c",
   "metadata": {},
   "outputs": [],
   "source": [
    "os.environ['GRASS_RENDER_IMMEDIATE'] = 'cairo'"
   ]
  },
  {
   "cell_type": "markdown",
   "id": "6c6b3ed7-7314-4dd7-9ee4-a1edce0323ee",
   "metadata": {},
   "source": [
    "WORDS GO HERE THAT EXPLAIN THE CODE BELOW"
   ]
  },
  {
   "cell_type": "markdown",
   "id": "e125813e-1ba8-4cfe-95f1-bb31a5d9cdf5",
   "metadata": {},
   "source": [
    "<span style=\"font-family:Dubai; color:#555555; font-size:17px;\">\n",
    "\n",
    "Words go here that explain the code below.\n",
    "WORDS GO HERE THAT EXPLAIN THE CODE BELOW"
   ]
  },
  {
   "cell_type": "code",
   "execution_count": null,
   "id": "62cc0449-e494-422c-b856-c0740d6bf963",
   "metadata": {},
   "outputs": [],
   "source": [
    "# Import data\n",
    "gs.run_command(\n",
    "    \"v.import\", \n",
    "    input=\"EX1.shp\", \n",
    "    epsg=\"4326\", \n",
    "    output=\"ex1_map\", \n",
    "    flags=\"o\")"
   ]
  },
  {
   "cell_type": "markdown",
   "id": "37831d20-bd6a-4b4f-a8dd-19c2dfdab8bb",
   "metadata": {},
   "source": [
    "WORDS GO HERE THAT EXPLAIN THE CODE BELOW"
   ]
  },
  {
   "cell_type": "markdown",
   "id": "6d489a22-ac58-42e3-a1fe-5793423e41f4",
   "metadata": {},
   "source": [
    "<span style=\"font-family:Dubai; color:#555555; font-size:17px;\">\n",
    "\n",
    "Words go here that explain the code below.\n",
    "WORDS GO HERE THAT EXPLAIN THE CODE BELOW"
   ]
  },
  {
   "cell_type": "code",
   "execution_count": null,
   "id": "25a2884b-6153-4361-b15d-6ee097bb0006",
   "metadata": {},
   "outputs": [],
   "source": [
    "## light.it.up\n",
    "gs.run_command(\"v.colors\", map=\"ex1_map\", use=\"attr\", column=\"Dry_Yield\", color=\"ryg\")"
   ]
  },
  {
   "cell_type": "markdown",
   "id": "6514ef5a-6260-431d-9fa1-c1ba05686a3f",
   "metadata": {},
   "source": [
    "<span style=\"font-family:Dubai; color:#555555; font-size:17px;\">\n",
    "\n",
    "Words go here that explain the code below.\n",
    "WORDS GO HERE THAT EXPLAIN THE CODE BELOW"
   ]
  },
  {
   "cell_type": "code",
   "execution_count": null,
   "id": "6a34c052-1756-4c78-8d59-f38f8778e32c",
   "metadata": {},
   "outputs": [],
   "source": [
    "# \"Show. me. the mappy\"!\n",
    "soymap = soy_map.run(\"d.vect\", map=\"ex1_map\", type=\"point\", \n",
    "                     color=\"none\", fill_color=\"none\", width=\"1\", \n",
    "                     icon=\"basic/circle\", size=\"5\")"
   ]
  },
  {
   "cell_type": "markdown",
   "id": "2f97f69d-9842-4662-82de-2c29d425a6ca",
   "metadata": {},
   "source": [
    "<span style=\"font-family:Dubai; color:#555555; font-size:17px;\">\n",
    "\n",
    "Words go here that explain the code below.\n",
    "WORDS GO HERE THAT EXPLAIN THE CODE BELOW"
   ]
  },
  {
   "cell_type": "code",
   "execution_count": null,
   "id": "7f3fc54f-5aa7-4dbd-ac69-bd26df133430",
   "metadata": {},
   "outputs": [],
   "source": [
    "soy_map.save(filename=\"ex1_map.png\")\n",
    "soy_map.save(filename=\"ex1_map.shp\")\n",
    "soy_map.show()"
   ]
  },
  {
   "cell_type": "markdown",
   "id": "729cae34-43ed-4b30-ba63-750a3c54414c",
   "metadata": {},
   "source": [
    "<span style=\"font-family:Dubai; color:#555555; font-size:17px;\">\n",
    "\n",
    "Words go here that explain the code below.\n",
    "WORDS GO HERE THAT EXPLAIN THE CODE BELOW"
   ]
  },
  {
   "cell_type": "code",
   "execution_count": null,
   "id": "05998c97-9b03-4741-b8c1-9106a6304a96",
   "metadata": {},
   "outputs": [],
   "source": [
    "# Set computational region to this new dataset\n",
    "#gs.run_command(\"g.region\", vector=\"ex1_map\")"
   ]
  },
  {
   "cell_type": "markdown",
   "id": "06586382-73d7-4890-9895-d8ceaca8e134",
   "metadata": {},
   "source": [
    "<span style=\"font-family:Dubai; color:#555555; font-size:17px;\">\n",
    "\n",
    "Words go here that explain the code below.\n",
    "WORDS GO HERE THAT EXPLAIN THE CODE BELOW"
   ]
  },
  {
   "cell_type": "code",
   "execution_count": null,
   "id": "bc4614af",
   "metadata": {
    "kernel": "SoS"
   },
   "outputs": [],
   "source": [
    "# Create detail/zoomed in map view\n",
    "detail_map = gj.Map(height=700, width=700)\n",
    "\n",
    "detail_map.run(\"d.vect\", map=\"ex1_map\", \n",
    "               type=\"point\", color=\"none\", \n",
    "               fill_color=\"none\", width=\"1\", \n",
    "               icon=\"basic/circle\", size=\"5\")\n",
    "detail_map.show()\n"
   ]
  },
  {
   "cell_type": "markdown",
   "id": "c624cccc-45a2-46b7-98d9-fb5873b1781c",
   "metadata": {},
   "source": [
    "------------------"
   ]
  },
  {
   "cell_type": "markdown",
   "id": "7eaa8b61",
   "metadata": {
    "kernel": "SoS"
   },
   "source": [
    "# View attribute table to scrutinize data quality"
   ]
  },
  {
   "cell_type": "markdown",
   "id": "19acefd7-ff3f-44cb-bd48-3716213b8dfd",
   "metadata": {},
   "source": [
    "<span style=\"font-family:Dubai; color:#555555; font-size:17px;\">\n",
    "\n",
    "Words go here that explain the code below.\n",
    "WORDS GO HERE THAT EXPLAIN THE CODE BELOW"
   ]
  },
  {
   "cell_type": "code",
   "execution_count": null,
   "id": "ad3dbb99",
   "metadata": {
    "kernel": "SoS"
   },
   "outputs": [],
   "source": [
    "from grass.script import vector\n",
    "vector.vector_db(map=\"ex1_map\")\n",
    "\n",
    "\n",
    "#from grass.pygrass.vector import VectorTopo\n",
    "#somename = VectorTopo('ex1_map')\n",
    "#somename.open(mode-'r')\n",
    "#dblinks = DBlinks(somename.c_mapinfo)\n",
    "#dblinks\n",
    "#DBlinks([Link(1, mapname, sqlite)])\n",
    "#link = DBlinks[0]\n",
    "#Link(1, mapname, sqliteabs)\n",
    "#table = link.table()\n",
    "\n",
    "##Here, DBlinks is a class that contains all the links of a vector map. \n",
    "##Each link is also a class (Link) that contains a specific link’s parameters. \n",
    "##The table() method of the link class return the linked table as a table object (Table)."
   ]
  },
  {
   "cell_type": "markdown",
   "id": "d630a0e4-9dc4-478b-963b-25427141a2f8",
   "metadata": {},
   "source": [
    "------------------"
   ]
  },
  {
   "cell_type": "markdown",
   "id": "50a376c3",
   "metadata": {
    "kernel": "SoS"
   },
   "source": [
    "# Clean up table"
   ]
  },
  {
   "cell_type": "markdown",
   "id": "69cda0c2-501f-4fa9-9692-8a67bfc48b02",
   "metadata": {},
   "source": [
    "<span style=\"font-family:Dubai; color:#555555; font-size:17px;\">\n",
    "\n",
    "Words go here that explain the code below.\n",
    "WORDS GO HERE THAT EXPLAIN THE CODE BELOW"
   ]
  },
  {
   "cell_type": "code",
   "execution_count": null,
   "id": "a2a748d6",
   "metadata": {
    "kernel": "SoS"
   },
   "outputs": [],
   "source": [
    "# Edit attributes\n",
    "gs.run_command(\"v.db.droprow\" \n",
    "               input=\"ex1_map\" \n",
    "               where=\"Speed = 0 OR Dry_Yield = 0\" \n",
    "               output=\"NoZerosAllHeros\")"
   ]
  },
  {
   "cell_type": "markdown",
   "id": "50df40ce",
   "metadata": {
    "kernel": "SoS"
   },
   "source": [
    "# Reload color for clean map"
   ]
  },
  {
   "cell_type": "markdown",
   "id": "a870dc1e-556f-4584-8bf1-3c3dc15e03ff",
   "metadata": {},
   "source": [
    "<span style=\"font-family:Dubai; color:#555555; font-size:17px;\">\n",
    "\n",
    "Words go here that explain the code below.\n",
    "WORDS GO HERE THAT EXPLAIN THE CODE BELOW"
   ]
  },
  {
   "cell_type": "code",
   "execution_count": null,
   "id": "165c00c2",
   "metadata": {
    "kernel": "SoS"
   },
   "outputs": [],
   "source": [
    "gs.run_command(\"d.vect\" \n",
    "               flags=\"i\" map=\"nozerosallheros\" \n",
    "               type=\"point\" color=\"none\" \n",
    "               fill_color=\"none\" width=\"1\" \n",
    "               icon=\"basic/circle\" size=\"5\")"
   ]
  }
 ],
 "metadata": {
  "kernelspec": {
   "display_name": "SoS",
   "language": "sos",
   "name": "sos"
  },
  "language_info": {
   "codemirror_mode": "sos",
   "file_extension": ".sos",
   "mimetype": "text/x-sos",
   "name": "sos",
   "nbconvert_exporter": "sos_notebook.converter.SoS_Exporter",
   "pygments_lexer": "sos"
  },
  "sos": {
   "kernels": [],
   "panel": {
    "displayed": true,
    "height": 0
   },
   "version": "0.24.0"
  },
  "toc": {
   "base_numbering": 1,
   "nav_menu": {},
   "number_sections": false,
   "sideBar": true,
   "skip_h1_title": false,
   "title_cell": "Table of Contents",
   "title_sidebar": "Contents",
   "toc_cell": false,
   "toc_position": {
    "height": "calc(100% - 180px)",
    "left": "10px",
    "top": "150px",
    "width": "358.438px"
   },
   "toc_section_display": true,
   "toc_window_display": true
  }
 },
 "nbformat": 4,
 "nbformat_minor": 5
}
